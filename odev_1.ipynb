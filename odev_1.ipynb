{
 "cells": [
  {
   "cell_type": "markdown",
   "id": "032d81b2",
   "metadata": {},
   "source": [
    "# 1\n",
    "x = 3 ----> floata çevirelim. Çevirdikten sonra veri tipinide yazdıralım.\n",
    "\n",
    "y = 4.5 -----> integere çevirelim. Çevirdikten sonra veri tipinide yazdıralım.\n",
    "\n",
    "z = \"8\" -----> integera çevirelim. Çevirdikten sonra veri tipinide yazdıralım.\n",
    "\n",
    "a = \"12\" -----> floata çevirelim. Çevirdikten sonra veri tipinide yazdıralım.\n",
    "\n",
    "b = \"46.8\" ------> integera çevirelim. Çevirdikten sonra veri tipinide yazdıralım."
   ]
  },
  {
   "cell_type": "code",
   "execution_count": 7,
   "id": "f1b735c0",
   "metadata": {},
   "outputs": [
    {
     "name": "stdout",
     "output_type": "stream",
     "text": [
      "<class 'float'>\n",
      "<class 'int'>\n",
      "<class 'int'>\n",
      "<class 'float'>\n",
      "<class 'int'>\n"
     ]
    }
   ],
   "source": [
    "x=3\n",
    "x_float = float(x)\n",
    "print(type(x_float))\n",
    "\n",
    "y=4.5\n",
    "print(type(int(y)))\n",
    "\n",
    "z=\"8\"\n",
    "print(type(int(z)))\n",
    "\n",
    "a=\"12\"\n",
    "print(type(float(a)))\n",
    "\n",
    "b=\"46.8\"\n",
    "b_float = float(b)\n",
    "print(type(int(b_float)))\n"
   ]
  },
  {
   "cell_type": "markdown",
   "id": "95509718",
   "metadata": {},
   "source": [
    "# 2 \n",
    "İsimlerden oluşan üç değişkene yaş değerleri atanır. Belirlenen üç değişken birbiriyle karşılaştırma operatörleri ile karşılaştırılır. Bu karşılaştırmalara mantıksal operatörler de eklenir."
   ]
  },
  {
   "cell_type": "code",
   "execution_count": 9,
   "id": "50f77b4f",
   "metadata": {},
   "outputs": [
    {
     "name": "stdout",
     "output_type": "stream",
     "text": [
      "Ali ayseden buyuk mu ? :  False\n",
      "Ayse eceden kucuk mu ? :  True\n",
      "Ece ve Ali aynı yasta mı ?  False\n",
      "Ayse ecen kucuk ve aliden buyuk mu ?  True\n",
      "Ayse herhangi birinden buyuk mu ?  True\n",
      "Ali'nin yasi 20'ye eşit değil mi ?  True\n"
     ]
    }
   ],
   "source": [
    "Ali = 15\n",
    "Ayse = 25\n",
    "Ece = 45\n",
    "\n",
    "print(\"Ali ayseden buyuk mu ? : \",Ali>Ayse)\n",
    "print(\"Ayse eceden kucuk mu ? : \",Ayse<Ece)\n",
    "print(\"Ece ve Ali aynı yasta mı ? \",Ece == Ali)\n",
    "\n",
    "print(\"Ayse ecen kucuk ve aliden buyuk mu ? \",Ayse<Ece and Ayse>Ali)\n",
    "print(\"Ayse herhangi birinden buyuk mu ? \",Ayse>Ece or Ayse>Ali)\n",
    "print(\"Ali'nin yasi 20'ye eşit değil mi ? \",not Ali == 20)\n",
    "\n"
   ]
  },
  {
   "cell_type": "markdown",
   "id": "a1a0eb92",
   "metadata": {},
   "source": [
    "# 3\n",
    "Kullanıcıdan iki değer girmesini istenir. Girilen değerlerin toplama, çıkarma, çarpma, bölme sonuçlarını yazdırılır."
   ]
  },
  {
   "cell_type": "code",
   "execution_count": 7,
   "id": "c361e45a",
   "metadata": {},
   "outputs": [
    {
     "name": "stdout",
     "output_type": "stream",
     "text": [
      "iki değer giriniz \n",
      " \n",
      "1\n",
      "1\n",
      "0\n",
      "tanımsız\n"
     ]
    }
   ],
   "source": [
    "print(\"iki değer giriniz \\n \")\n",
    "a = int(input(\"Değer bir : \"))\n",
    "b = int(input(\"Değer iki : \"))\n",
    "\n",
    "toplam = a+b\n",
    "fark = a - b\n",
    "carpim = a*b\n",
    "\n",
    "def Bolme(a,b):\n",
    "    if(b!=0):\n",
    "        return a/b\n",
    "    else:\n",
    "        return \"tanımsız\"\n",
    "\n",
    "bolme = Bolme(a,b)\n",
    "\n",
    "print(toplam)\n",
    "print(fark)\n",
    "print(carpim)\n",
    "print(bolme)\n",
    "    \n"
   ]
  },
  {
   "cell_type": "markdown",
   "id": "060b0bea",
   "metadata": {},
   "source": [
    "# 4\n",
    "Kullanıcıdan isim, yaş, şehir ve meslek bilgilerini istenir ve cevaplarını yazdırılır."
   ]
  },
  {
   "cell_type": "code",
   "execution_count": 10,
   "id": "6f5dea59",
   "metadata": {},
   "outputs": [
    {
     "name": "stdout",
     "output_type": "stream",
     "text": [
      "Ad Soyad : Ebru İlbeği \n",
      "Yas : 22 \n",
      "Sehir : Malatya\n",
      "Meslek : Yazılım Mühendisi\n"
     ]
    }
   ],
   "source": [
    "isim = input(\"Adınız Soyadınız :\")\n",
    "yas = int(input(\"Yasınız : \"))\n",
    "sehir = input(\"Sehriniz : \")\n",
    "meslek = input(\"Mesleginiz\")\n",
    "\n",
    "print(f\"Ad Soyad : {isim} \\nYas : {yas} \\nSehir : {sehir}\\nMeslek : {meslek}\")"
   ]
  },
  {
   "cell_type": "markdown",
   "id": "55e1a34e",
   "metadata": {},
   "source": [
    "# 5\n",
    "\"Hi-Kod Veri Bilimi Atölyesi\" ifadesini bir değişkene tanımlanır.\n",
    "\n",
    "\n",
    " 1. İfadedeki her bir kelimeyi (\"Hi-Kod\", \"Veri\", \"Bilimi\", \"Atölyesi\") değişken içinden seçilir. \n",
    " 2. İfadeyi hepsini büyük harf olacak hale çevrilir. (\"HI-KOD VERİ BİLİMİ ATÖLYESİ\") \n",
    " 3. İfadeyi hepsini büyük harf olacak hale çevrilir.(\"hi-kod veri bilimi atölyesi\") \n",
    "\n"
   ]
  },
  {
   "cell_type": "code",
   "execution_count": null,
   "id": "0fc1bc40",
   "metadata": {},
   "outputs": [
    {
     "name": "stdout",
     "output_type": "stream",
     "text": [
      "Kelimeler :  Hi-Kod - Veri - Bilimi - Atölyesi\n",
      "Tum harflerin buyuk harf oldugu durum :  HI-KOD VERI BILIMI ATÖLYESI\n",
      "Tum harflerin kucuk oldugu durum :  hi-kod veri bilimi atölyesi\n"
     ]
    },
    {
     "data": {
      "text/plain": [
       "['0123456789']"
      ]
     },
     "execution_count": 19,
     "metadata": {},
     "output_type": "execute_result"
    }
   ],
   "source": [
    "x = \"Hi-Kod Veri Bilimi Atölyesi\"\n",
    "y = x.split()\n",
    "print(\"Kelimeler : \",y[0],\"-\",y[1],\"-\",y[2],\"-\",y[3])\n",
    "\n",
    "print(\"Tum harflerin buyuk harf oldugu durum : \" ,x.upper())\n",
    "print(\"Tum harflerin kucuk oldugu durum : \",x.lower())\n",
    "\n",
    "\n"
   ]
  },
  {
   "cell_type": "markdown",
   "id": "a00e22da",
   "metadata": {},
   "source": [
    "1) \"0123456789\" ifadesindeki yalnızca çift sayıları ve yalnızca tek sayıları seçilir. (\"02468\", \"13579\")"
   ]
  },
  {
   "cell_type": "code",
   "execution_count": 21,
   "id": "ff871c64",
   "metadata": {},
   "outputs": [
    {
     "name": "stdout",
     "output_type": "stream",
     "text": [
      "tek sayılar :  ['1', '3', '5', '7', '9']\n",
      "cift sayılar :  ['0', '2', '4', '6', '8']\n"
     ]
    }
   ],
   "source": [
    "z = \"0123456789\"\n",
    "tekler = []\n",
    "ciftler = []\n",
    "\n",
    "for rakam in z:\n",
    "    if int(rakam) % 2 == 0:\n",
    "        ciftler.append(rakam)\n",
    "    else:\n",
    "        tekler.append(rakam)\n",
    "        \n",
    "print(\"tek sayılar : \",tekler)\n",
    "print(\"cift sayılar : \",ciftler)"
   ]
  }
 ],
 "metadata": {
  "kernelspec": {
   "display_name": "base",
   "language": "python",
   "name": "python3"
  },
  "language_info": {
   "codemirror_mode": {
    "name": "ipython",
    "version": 3
   },
   "file_extension": ".py",
   "mimetype": "text/x-python",
   "name": "python",
   "nbconvert_exporter": "python",
   "pygments_lexer": "ipython3",
   "version": "3.12.4"
  }
 },
 "nbformat": 4,
 "nbformat_minor": 5
}
