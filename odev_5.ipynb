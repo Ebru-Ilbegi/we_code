{
 "cells": [
  {
   "cell_type": "markdown",
   "id": "2337a132",
   "metadata": {},
   "source": [
    "✏️ Ödev\n",
    "Sözlük:\n",
    "\n",
    "Bir sözlük oluşturulur ve bu sözlükte öğrencilerin isimleri ve Matematik, Fizik, Kimya notları tutulur. Kullanıcıdan isim ve ders ismi(Matematik, Fizik, Kimya) istenir ve bu bilgilere göre çıktı verilir.\n",
    "\n",
    "Sözlük üzerinde değerleri değiştirme, yeni değer ekleme, kullanıcıya ulaşmak istediği bilgileri sorma gibi uygulamalar yapın."
   ]
  },
  {
   "cell_type": "code",
   "execution_count": 8,
   "id": "04518da8",
   "metadata": {},
   "outputs": [],
   "source": [
    "Notlar = {\n",
    "    \"Ahmet Ak\":{\"Matematik\" : 50 , \"Fizik\" : 60, \"Kimya\" : 70},\n",
    "    \"Ayşe Yılmaz\":{\"Matematik\" : 60 , \"Fizik\" : 90, \"Kimya\" : 50},\n",
    "    \"Fatma Saray\":{\"Matematik\" : 89 , \"Fizik\" : 83, \"Kimya\" : 90},\n",
    "    \"Akif Gök\":{\"Matematik\" : 78 , \"Fizik\" : 60, \"Kimya\" : 60},\n",
    "    \"Mehmet Şen\":{\"Matematik\" : 51 , \"Fizik\" : 66, \"Kimya\" : 76},\n",
    "    \"Ela Çalışkan\":{\"Matematik\" : 75 , \"Fizik\" : 65, \"Kimya\" : 72},\n",
    "    \"Ekin Göl\":{\"Matematik\" : 55 , \"Fizik\" : 75, \"Kimya\" : 65},\n",
    "    \"Sevgi Tekin\":{\"Matematik\" : 30 , \"Fizik\" : 40, \"Kimya\" : 80},\n",
    "    \"Uzay Çalışkan\":{\"Matematik\" : 45 , \"Fizik\" : 65, \"Kimya\" : 70},\n",
    "    \"Su Akın\":{\"Matematik\" : 80 , \"Fizik\" : 75, \"Kimya\" : 85}\n",
    "}"
   ]
  },
  {
   "cell_type": "code",
   "execution_count": 10,
   "id": "3eeb7b65",
   "metadata": {},
   "outputs": [
    {
     "name": "stdout",
     "output_type": "stream",
     "text": [
      "Su Akın isimli ogrencinin ders notlari {'Matematik': 80, 'Fizik': 75, 'Kimya': 85}\n"
     ]
    }
   ],
   "source": [
    "#Sadece ders adının alındığı durum\n",
    "\n",
    "Ogrenci_Ad = input(\"Ogrenci isim bilgilerini giriniz : \")\n",
    "#Once isime gore notları getirelim\n",
    "\n",
    "if Ogrenci_Ad in Notlar:\n",
    "    print(f\"{Ogrenci_Ad} isimli ogrencinin ders notlari {Notlar[Ogrenci_Ad]}\")\n"
   ]
  },
  {
   "cell_type": "code",
   "execution_count": null,
   "id": "3f5d2652",
   "metadata": {},
   "outputs": [
    {
     "name": "stdout",
     "output_type": "stream",
     "text": [
      "Ekin Göl isimli ogrencinin Fizik ders notu 75\n"
     ]
    }
   ],
   "source": [
    "#Hem isim hem de ders adinin alindiği durum\n",
    "\n",
    "Ogrenci_Ad = input(\"Ogrenci isim bilgilerini giriniz : \")\n",
    "Ders_Ad = input(\"Ders adini giriniz : \")\n",
    "\n",
    "#Simdi hem isime hemde ders adina gore notlari getirelim\n",
    "if Ogrenci_Ad in Notlar:\n",
    "    print(f\"{Ogrenci_Ad} isimli ogrencinin {Ders_Ad} ders notu {Notlar[Ogrenci_Ad][Ders_Ad]}\")"
   ]
  },
  {
   "cell_type": "code",
   "execution_count": null,
   "id": "46aabe63",
   "metadata": {},
   "outputs": [
    {
     "name": "stdout",
     "output_type": "stream",
     "text": [
      "Güncellenmiş yeni notlar \n"
     ]
    },
    {
     "data": {
      "text/plain": [
       "{'Ahmet Ak': {'Matematik': 50, 'Fizik': 60, 'Kimya': 70},\n",
       " 'Ayşe Yılmaz': {'Matematik': 60, 'Fizik': 90, 'Kimya': 50},\n",
       " 'Fatma Saray': {'Matematik': 89, 'Fizik': 83, 'Kimya': 90},\n",
       " 'Akif Gök': {'Matematik': 78, 'Fizik': 60, 'Kimya': 65},\n",
       " 'Mehmet Şen': {'Matematik': 70, 'Fizik': 83, 'Kimya': 86},\n",
       " 'Ela Çalışkan': {'Matematik': 75, 'Fizik': 65, 'Kimya': 72},\n",
       " 'Ekin Göl': {'Matematik': 55, 'Fizik': 75, 'Kimya': 65},\n",
       " 'Sevgi Tekin': {'Matematik': 30, 'Fizik': 40, 'Kimya': 80},\n",
       " 'Uzay Çalışkan': {'Matematik': 65, 'Fizik': 75, 'Kimya': 90},\n",
       " 'Su Akın': {'Matematik': 80, 'Fizik': 75, 'Kimya': 85},\n",
       " 'Gül Kaygısız': {'Matematik': 70, 'Fizik': 83, 'Kimya': 86}}"
      ]
     },
     "execution_count": 18,
     "metadata": {},
     "output_type": "execute_result"
    }
   ],
   "source": [
    "#Sözlük üzerinde değer değiştirme ve yeni değer ekleme uygulamalari\n",
    "\n",
    "#Once yeni değer ekleyelim\n",
    "Notlar[\"Gül Kaygısız\"] = {\"Matematik\" : 70 ,\"Fizik\" : 83,\"Kimya\" : 86}#Metot yok\n",
    "\n",
    "#Simdi deger guncellleyelim\n",
    "\n",
    "Notlar[\"Mehmet Şen\"] = {\"Matematik\" : 70 ,\"Fizik\" : 83,\"Kimya\" : 86}\n",
    "Notlar[\"Akif Gök\"][\"Kimya\"] = 65 # tek ders güncellendi\n",
    "\n",
    "Notlar[\"Uzay Çalışkan\"] = {\"Matematik\" : 65 , \"Fizik\" : 75, \"Kimya\" : 90}\n",
    "\n",
    "print(\"Güncellenmiş yeni notlar \")\n",
    "Notlar"
   ]
  },
  {
   "cell_type": "code",
   "execution_count": 25,
   "id": "bb16c36d",
   "metadata": {},
   "outputs": [
    {
     "name": "stdout",
     "output_type": "stream",
     "text": [
      "---------------- Hosgeldiniz ----------------\n",
      " ----- Yapmak istediginiz islemi giriniz -----\n",
      " 1 - Ogrenci bilgileri goruntuleme\n",
      " 2 - Ogrencinin spesifik olarak notunu goruntuleme\n",
      " 3 - Ogrenci bilgileri duzenleme\n",
      " 4 - Ogrenci ekleme\n",
      " 5 - Ogrenci listesi görüntüleme\n",
      " 6 - Cikis\n"
     ]
    },
    {
     "name": "stdout",
     "output_type": "stream",
     "text": [
      "Uzay Çalışkan isimli ogrencinin notlari :  {'Matematik': 65, 'Fizik': 75, 'Kimya': 90}\n"
     ]
    }
   ],
   "source": [
    "#Kullanici etkilesimli basit ogrenci sistemi\n",
    "#sisteme ek olarak hata kontrolu eklenebilir\n",
    "\n",
    "print(\"---------------- Hosgeldiniz ----------------\\n\",\n",
    "      \"----- Yapmak istediginiz islemi giriniz -----\\n\",\n",
    "      \"1 - Ogrenci bilgileri goruntuleme\\n\",\n",
    "      \"2 - Ogrencinin spesifik olarak notunu goruntuleme\\n\",\n",
    "      \"3 - Ogrenci bilgileri duzenleme\\n\",\n",
    "      \"4 - Ogrenci ekleme\\n\",\n",
    "      \"5 - Ogrenci listesi görüntüleme\\n\",\n",
    "      \"6 - Cikis\")\n",
    "\n",
    "islem = int(input())\n",
    "\n",
    "if islem == 1:\n",
    "    isim = input(\"Ogrenci adi giriniz : \") \n",
    "    print(f\"{isim} isimli ogrencinin notlari :  {Notlar[isim]}\")\n",
    "    \n",
    "elif islem == 2:\n",
    "    isim = input(\"Ogrenci adi giriniz : \") \n",
    "    ders = input(\"Ders adi giriniz : \")\n",
    "    print(f\"{isim} isimli ogrencinin {ders} notu {Notlar[isim][ders]}\") \n",
    "    \n",
    "elif islem == 3:\n",
    "    isim = input(\"Guncellemek istediginiz ogrenci adi giriniz : \") \n",
    "    matematik = int(input(\"Matematik  notunu giriniz : \"))\n",
    "    fizik = int(input(\"Fizik notunu giriniz : \"))\n",
    "    kimya = int(input(\"Kimya  notunu giriniz : \"))    \n",
    "        \n",
    "    Notlar[isim] = {\"Matematik\" : matematik , \"Fizik\" : fizik, \"Kimya\" : kimya}\n",
    "    print(f\"{isim} adlı ogrencinin yeni notları {Notlar[isim]}\")\n",
    "    \n",
    "    print(\"Bilgiler güncellendi !\")\n",
    "    \n",
    "elif islem == 4:\n",
    "    isim = input(\"Eklemek istediginiz ogrenci adi giriniz : \") \n",
    "    matematik = int(input(\"Matematik  notunu giriniz : \"))\n",
    "    fizik = int(input(\"Fizik notunu giriniz : \"))\n",
    "    kimya = int(input(\"Kimya  notunu giriniz : \"))    \n",
    "        \n",
    "    Notlar[isim] = {\"Matematik\" : matematik , \"Fizik\" : fizik, \"Kimya\" : kimya}\n",
    "    print(f\"{isim} adli eklenen ogrenci notlari {Notlar[isim]}\")\n",
    "        \n",
    "elif islem == 5:\n",
    "    print(Notlar)\n",
    "    \n",
    "else :\n",
    "    print(\"Cikis yapiliyor ...\")\n",
    "    \n"
   ]
  }
 ],
 "metadata": {
  "kernelspec": {
   "display_name": "base",
   "language": "python",
   "name": "python3"
  },
  "language_info": {
   "codemirror_mode": {
    "name": "ipython",
    "version": 3
   },
   "file_extension": ".py",
   "mimetype": "text/x-python",
   "name": "python",
   "nbconvert_exporter": "python",
   "pygments_lexer": "ipython3",
   "version": "3.12.4"
  }
 },
 "nbformat": 4,
 "nbformat_minor": 5
}
