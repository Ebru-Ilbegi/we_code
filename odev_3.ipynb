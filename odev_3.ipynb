{
 "cells": [
  {
   "cell_type": "markdown",
   "metadata": {},
   "source": [
    "#### Ödev 1\n",
    "Kullanıcıdan pi değeri ve yarıçap bilgisi alarak dairenin alanını hesaplayan bir fonksiyon oluşturulur."
   ]
  },
  {
   "cell_type": "code",
   "execution_count": 3,
   "metadata": {},
   "outputs": [
    {
     "name": "stdout",
     "output_type": "stream",
     "text": [
      "78.53981633974483\n"
     ]
    }
   ],
   "source": [
    "import math\n",
    "Yaricap = int(input(\"Yaricap bilgisi giriniz : \"))\n",
    "def Daire_Alan():\n",
    "    Pi_Degeri = math.pi\n",
    "    daire_alan = Pi_Degeri * Yaricap**2\n",
    "    return daire_alan\n",
    "print(Daire_Alan())\n",
    "    "
   ]
  },
  {
   "cell_type": "markdown",
   "metadata": {},
   "source": [
    "#### Ödev 2\n",
    "\n",
    "Faktöriyel adında fonksiyon oluşturulur. Döngü kullanarak parametre olarak girilen sayının faktöriyeli hesaplanır. Format metodunu kullanılarak ekrana yazdırılır."
   ]
  },
  {
   "cell_type": "code",
   "execution_count": null,
   "metadata": {},
   "outputs": [
    {
     "name": "stdout",
     "output_type": "stream",
     "text": [
      "5 sayisinin faktoriyeli 120 ' dir. : \n"
     ]
    }
   ],
   "source": [
    "sayi = int(input(\"Faktoriyeli alinmasi istenilen sayiyi giriniz: \"))\n",
    "\n",
    "def Faktoriyel():\n",
    "    sonuc = 1\n",
    "    for i in range(1, n+1):\n",
    "        sonuc *= i\n",
    "    return sonuc\n",
    "\n",
    "print(\"{} sayisinin faktoriyeli {} ' dir. \".format(sayi,Faktoriyel()))"
   ]
  },
  {
   "cell_type": "markdown",
   "metadata": {},
   "source": [
    "#### Ödev 3\n",
    "Kişinin fonksiyona doğum yılını vererek kaç yaşında olduğunu hesaplayan bir fonksiyon oluşturun. "
   ]
  },
  {
   "cell_type": "code",
   "execution_count": 18,
   "metadata": {},
   "outputs": [
    {
     "name": "stdout",
     "output_type": "stream",
     "text": [
      "Yasiniz : 35'dir.\n"
     ]
    }
   ],
   "source": [
    "from datetime import datetime\n",
    "\n",
    "Dogum_yili = int(input(\"Dogum yilinizi giriniz : \"))\n",
    "def Yas_Hesaplama() :\n",
    "    Yil = datetime.now().year\n",
    "    Yas = Yil - Dogum_yili\n",
    "    return Yas\n",
    "print(f\"Yasiniz : {Yas_Hesaplama()}'dir.\")"
   ]
  },
  {
   "cell_type": "markdown",
   "metadata": {},
   "source": [
    "#### Ödev 4\n",
    "\n",
    "Doğum yılı ve isim bilgisi verilen fonksiyon kişinin emekli olup olmadığını söylesin.(Kişi 65 yaşında ise emekli olur.) Burada yaş hesabını yukarıdaki örnekteki fonksiyonu kullanarak yapsın.(Yani fonksiyon içinde fonksiyon kullanmanızı istiyorum :)) Kişi 65 yaşında ya da daha fazlaysa \"Emekli oldunuz\" yanıtını, 65 yaşından küçükse emekliliğine kaç yıl kaldığını da hesaplayarak \"(isim) emekliliğine (yıl) kaldı.\" yanıtını versin."
   ]
  },
  {
   "cell_type": "code",
   "execution_count": null,
   "metadata": {},
   "outputs": [
    {
     "name": "stdout",
     "output_type": "stream",
     "text": [
      "Emeli oldunuz\n"
     ]
    }
   ],
   "source": [
    "from datetime import datetime\n",
    "Isim = input(\"Adinizi giriniz : \")\n",
    "Dogum_yili = int(input(\"Dogum yilinizi giriniz : \"))\n",
    "\n",
    "def Emekli_Mi():\n",
    "    if Yas_Hesaplama() > 65:\n",
    "        print(\"Emeli oldunuz.\")\n",
    "    else:\n",
    "        Kalan_yas = 65-Yas_Hesaplama()\n",
    "        print(f\"{Isim} emekliligine {Kalan_yas} yil kaldı .\")        \n",
    "Emekli_Mi()"
   ]
  }
 ],
 "metadata": {
  "kernelspec": {
   "display_name": "base",
   "language": "python",
   "name": "python3"
  },
  "language_info": {
   "codemirror_mode": {
    "name": "ipython",
    "version": 3
   },
   "file_extension": ".py",
   "mimetype": "text/x-python",
   "name": "python",
   "nbconvert_exporter": "python",
   "pygments_lexer": "ipython3",
   "version": "3.12.4"
  }
 },
 "nbformat": 4,
 "nbformat_minor": 2
}
