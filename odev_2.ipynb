{
 "cells": [
  {
   "cell_type": "markdown",
   "id": "409f0f4a",
   "metadata": {},
   "source": [
    "**Ödev-1:** Kullanıcıdan maaş bilgisini istenir ve bu bilgiye göre maaşından ne kadar vergi kesileceğini hesaplanır. Kullanıcının geliri;\n",
    "\n",
    "1. 10000 ve altındaysa maaşından %5 kesinti olur.\n",
    "2. 25000 ve altındaysa maaşından %10 kesinti olur.\n",
    "3. 45000 ve altındaysa maaşından %25 kesinti olur.\n",
    "4. Diğer koşullarda %30 kesinti olur.\n",
    "\n",
    "Bu durumlara göre kullanıcının yeni maaşı yazdırılır."
   ]
  },
  {
   "cell_type": "code",
   "execution_count": 18,
   "id": "5246e510",
   "metadata": {},
   "outputs": [
    {
     "name": "stdout",
     "output_type": "stream",
     "text": [
      "Vergi tutatrı : 2000.0 , yeni maas : 18000.0\n",
      "None\n"
     ]
    }
   ],
   "source": [
    "maas = int(input(\"Maas bilgisi giriniz : \"))\n",
    "\n",
    "def Vergi_kesintisi(maas):\n",
    "    if(maas <= 10000):\n",
    "        vergi = (maas*5/100)\n",
    "        yeni_maas = maas - vergi \n",
    "        print(f\"Vergi tutatrı : {vergi} , yeni maas : {yeni_maas}\")\n",
    "        \n",
    "    elif(maas <= 25000):\n",
    "        vergi = (maas*10/100)\n",
    "        yeni_maas = maas - vergi \n",
    "        print(f\"Vergi tutatrı : {vergi} , yeni maas : {yeni_maas}\")\n",
    "        \n",
    "    elif(maas <= 45000):\n",
    "        vergi = (maas*25/100)\n",
    "        yeni_maas = maas - vergi \n",
    "        print(f\"Vergi tutatrı : {vergi} , yeni maas : {yeni_maas}\")   \n",
    "        \n",
    "    else:\n",
    "        vergi = (maas * 30)/100\n",
    "        yeni_maas = maas - vergi \n",
    "        print(f\"Vergi tutatrı : {vergi} , yeni maas : {yeni_maas}\") \n",
    "        \n",
    "print(Vergi_kesintisi(maas))"
   ]
  },
  {
   "cell_type": "markdown",
   "id": "f5fe8798",
   "metadata": {},
   "source": [
    "**Ödev-2:** Kullanıcıdan kullanıcı adı ve şifre oluşturmasını istenir. Şifrenin uzunluğu altı haneye ulaşmışsa hesabınız oluşturuldu mesajı alınır, altı haneden azsa altı haneli şifre oluşturması gerektiğinin mesajı alınır. *(Sadece koşul kullanılması yeterli.)*"
   ]
  },
  {
   "cell_type": "code",
   "execution_count": null,
   "id": "6acffe57",
   "metadata": {},
   "outputs": [],
   "source": [
    "Kullanici_ad = input(\"kullanici adi girin : \")\n",
    "Kullanici_sifre = input(\"kullanici sifre girin : \")\n",
    "\n",
    "def Sifre_kontrol(Kullanici_sifre):\n",
    "    if len(Kullanici_sifre)<6:\n",
    "        print(\"Sifre en az 6 hane uzunluğunda olmali\")\n",
    "    else:\n",
    "        print(\"Kayıt basari ile yapildi\")\n",
    "        \n",
    "print(Sifre_kontrol(Kullanici_sifre))"
   ]
  },
  {
   "cell_type": "markdown",
   "id": "aaccf11a",
   "metadata": {},
   "source": [
    "**Ödev-3:** Bir önceki örnek geliştirilir.\n",
    "\n",
    "1. Kullanıcı girdiği şifre 5 ve 10 hane arasında olmak zorunda.\n",
    "2. Eğer bu koşula uyuyorsa \"Hesabınız oluşturuldu.\" mesajı alır.\n",
    "3. Koşulu sağlamıyorsa \"Lütfen girdiniz şifre 5 haneden az 10 haneden fazla olmasın!\" uyarısı alır.\n",
    "4. Bunu oluştururken kullanıcı istediğimiz şartlarda şifre oluşturana kadar sormaya devam eder"
   ]
  },
  {
   "cell_type": "code",
   "execution_count": null,
   "id": "039e50dc",
   "metadata": {},
   "outputs": [],
   "source": [
    "def Sifre_kontrol():\n",
    "    while True:\n",
    "        sifre = input(\"Kullanıcı şifre girin (5-10 karakter): \")\n",
    "        \n",
    "        if 5 <= len(sifre) <= 10:\n",
    "            print(\"Kayıt başarı ile yapıldı\")\n",
    "            return sifre\n",
    "        else:\n",
    "            print(\"Şifre 5 ile 10 hane arasında olmalı!\")\n",
    "\n",
    "Kullanici_ad = input(\"Kullanıcı adı girin: \")\n",
    "Kullanici_sifre = Sifre_kontrol()  \n",
    "\n",
    "print(f\"Kullanıcı adı: {Kullanici_ad} - Şifre: {Kullanici_sifre}\")\n"
   ]
  },
  {
   "cell_type": "markdown",
   "id": "8ba81863",
   "metadata": {},
   "source": [
    "**Ödev-4:** Kullanıcıdan isim ve şifre isteyeceğiz ve şifre girişi için üç hak verilir.\n",
    "\n",
    "1. Eğer önceden tanımlı şifre ile kullanıcıdan gelen şifre aynıysa \"Giriş yapıldı.\" yazar.\n",
    "2. Şifre girişi yanlışsa \"Yanlış şifre girildi!\" uyarısı verilsin ve üç yanlış denemede program biter.\n",
    "3. Tercihe göre kalan hak bilgisi verilir."
   ]
  },
  {
   "cell_type": "code",
   "execution_count": null,
   "id": "8f45ea0c",
   "metadata": {},
   "outputs": [],
   "source": [
    "Kul_ad = \"Ebru\"\n",
    "Kul_sifre = 123456\n",
    "\n",
    "def Sifre_kontr():\n",
    "    i=3    \n",
    "    while (i > 0) :\n",
    "        \n",
    "        Kul_sifre_giris = input(\"sifrenizi giriniz : \")\n",
    "    \n",
    "        if(Kul_sifre == Kul_sifre_giris):\n",
    "            print(\"Giriş yapıldı !!!\")\n",
    "        else:\n",
    "            i=i-1 \n",
    "            print(\"yanlış şifre girildi\")\n",
    "    return \"3 yanlış deneme yapıldı\"                        \n",
    "\n",
    "print(f\"kullanıcı adı {Kul_ad} sifre : {Sifre_kontr()}\")"
   ]
  }
 ],
 "metadata": {
  "kernelspec": {
   "display_name": "base",
   "language": "python",
   "name": "python3"
  },
  "language_info": {
   "codemirror_mode": {
    "name": "ipython",
    "version": 3
   },
   "file_extension": ".py",
   "mimetype": "text/x-python",
   "name": "python",
   "nbconvert_exporter": "python",
   "pygments_lexer": "ipython3",
   "version": "3.12.4"
  }
 },
 "nbformat": 4,
 "nbformat_minor": 5
}
