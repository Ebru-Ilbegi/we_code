{
 "cells": [
  {
   "cell_type": "markdown",
   "id": "a0f6364d",
   "metadata": {},
   "source": [
    "##### 1.Sayılardan oluşan bir boyutlu array oluşturun. Arrayi oluştururken sayıların veri tipini integer olarak belirtelim.\n",
    "\n",
    "Oluşturulan arrayin boyut, eleman sayısı bilgilerine bakalım."
   ]
  },
  {
   "cell_type": "code",
   "execution_count": 4,
   "id": "c16c30a6",
   "metadata": {},
   "outputs": [
    {
     "name": "stdout",
     "output_type": "stream",
     "text": [
      "Arrayin tipi : int32\n",
      "Arrayin boyutu : 1\n",
      "Arrayin eleman sayisi : (6,)\n"
     ]
    }
   ],
   "source": [
    "import numpy as np\n",
    "\n",
    "array = np.array([1,2,3,4,5,6],dtype=\"int\")\n",
    "\n",
    "print(f\"Arrayin tipi : {array.dtype}\\nArrayin boyutu : {array.ndim}\\nArrayin eleman sayisi : {array.shape}\")"
   ]
  },
  {
   "cell_type": "markdown",
   "id": "1681f851",
   "metadata": {},
   "source": [
    "##### 2. Aşağıda verilen iki boyutlu ve üç boyutlu arrayi oluşturalım. Bu arraylerin boyut, eleman sayısı, satır, sütun bilgilerine ulaşalım. \n",
    "\n",
    "İki boyutlu array:\n",
    "[[1,2,6,7],\n",
    " [4,3,9,5]]\n",
    "\n",
    "Üç boyutlu array:\n",
    "[[[7,5,14],[21,8,11]],\n",
    " [[8,6,20],[14,3,9]]]\n",
    "\n",
    " "
   ]
  },
  {
   "cell_type": "code",
   "execution_count": 12,
   "id": "e3a138ed",
   "metadata": {},
   "outputs": [
    {
     "name": "stdout",
     "output_type": "stream",
     "text": [
      "Array boyut kontrolu 2 boyutlu : 2\n",
      "Array boyut kontrolu 3 boyutlu : 3\n"
     ]
    }
   ],
   "source": [
    "iki_boyutlu_array = np.array([[1,2,6,7],[4,3,9,5]])\n",
    "uc_boyutlu_array = np.array([\n",
    "    [\n",
    "        [7,5,14],[21,8,11]\n",
    "    ]\n",
    "    ,\n",
    "    [\n",
    "        [8,6,20],[14,3,9]\n",
    "    ]\n",
    "    ])\n",
    "\n",
    "\n",
    "print(f\"Array boyut kontrolu 2 boyutlu : {iki_boyutlu_array.ndim}\")\n",
    "print(f\"Array boyut kontrolu 3 boyutlu : {uc_boyutlu_array.ndim}\")"
   ]
  },
  {
   "cell_type": "markdown",
   "id": "b45192b0",
   "metadata": {},
   "source": [
    "##### 3. İstenilen elamanlara ulaşmak için arrayler üzerinde indexleme işlemi yapalım"
   ]
  },
  {
   "cell_type": "code",
   "execution_count": 13,
   "id": "563f9992",
   "metadata": {},
   "outputs": [
    {
     "data": {
      "text/plain": [
       "2"
      ]
     },
     "execution_count": 13,
     "metadata": {},
     "output_type": "execute_result"
    }
   ],
   "source": [
    "#İki boyutlu arraydaki 2 elemanına ulaşalım\n",
    "iki_boyutlu_array[0,1]"
   ]
  },
  {
   "cell_type": "code",
   "execution_count": 14,
   "id": "fd0a0be4",
   "metadata": {},
   "outputs": [
    {
     "data": {
      "text/plain": [
       "7"
      ]
     },
     "execution_count": 14,
     "metadata": {},
     "output_type": "execute_result"
    }
   ],
   "source": [
    "#İki boyutlu arraydaki 7 elemanına ulaşalım\n",
    "iki_boyutlu_array[0,3]"
   ]
  },
  {
   "cell_type": "code",
   "execution_count": 15,
   "id": "0c2b1884",
   "metadata": {},
   "outputs": [
    {
     "data": {
      "text/plain": [
       "9"
      ]
     },
     "execution_count": 15,
     "metadata": {},
     "output_type": "execute_result"
    }
   ],
   "source": [
    "#Üç boyutlu arraydaki 9 elemanına ulaşalım\n",
    "uc_boyutlu_array[1,1,2]"
   ]
  },
  {
   "cell_type": "code",
   "execution_count": 16,
   "id": "0dc07d00",
   "metadata": {},
   "outputs": [
    {
     "data": {
      "text/plain": [
       "5"
      ]
     },
     "execution_count": 16,
     "metadata": {},
     "output_type": "execute_result"
    }
   ],
   "source": [
    "#Üç boyutlu arraydaki 5 elemanına ulaşalım\n",
    "uc_boyutlu_array[0,0,1]"
   ]
  },
  {
   "cell_type": "markdown",
   "id": "12198bc9",
   "metadata": {},
   "source": [
    "##### 4. Arrayler üzerinde slicing işlemi uygulayalım."
   ]
  },
  {
   "cell_type": "code",
   "execution_count": 19,
   "id": "9d066ba1",
   "metadata": {},
   "outputs": [
    {
     "data": {
      "text/plain": [
       "array([2, 6])"
      ]
     },
     "execution_count": 19,
     "metadata": {},
     "output_type": "execute_result"
    }
   ],
   "source": [
    "#İki boyutlu arraydaki 2,6 elemanlarına ulaşalım\n",
    "iki_boyutlu_array[0,1:3]\n"
   ]
  },
  {
   "cell_type": "code",
   "execution_count": 21,
   "id": "e020f980",
   "metadata": {},
   "outputs": [
    {
     "data": {
      "text/plain": [
       "array([3, 9, 5])"
      ]
     },
     "execution_count": 21,
     "metadata": {},
     "output_type": "execute_result"
    }
   ],
   "source": [
    "#İki boyutlu arraydaki 3,9,5 elemanlarına ulaşalım\n",
    "iki_boyutlu_array[1,1:4]"
   ]
  },
  {
   "cell_type": "code",
   "execution_count": 22,
   "id": "891bed31",
   "metadata": {},
   "outputs": [
    {
     "data": {
      "text/plain": [
       "array([[21,  8, 11]])"
      ]
     },
     "execution_count": 22,
     "metadata": {},
     "output_type": "execute_result"
    }
   ],
   "source": [
    "#Üç boyutlu arraydaki 21,8,11 elemanlarına ulaşalım\n",
    "uc_boyutlu_array[0,1:4]"
   ]
  },
  {
   "cell_type": "code",
   "execution_count": 28,
   "id": "bcbf5f17",
   "metadata": {},
   "outputs": [
    {
     "data": {
      "text/plain": [
       "array([ 6, 20])"
      ]
     },
     "execution_count": 28,
     "metadata": {},
     "output_type": "execute_result"
    }
   ],
   "source": [
    "#Üç boyutlu arraydaki 6,20 elemanlarına ulaşalım\n",
    "uc_boyutlu_array[1,0,1:3]"
   ]
  },
  {
   "cell_type": "markdown",
   "id": "66d2aab8",
   "metadata": {},
   "source": [
    "##### 5. 5 satır 3 sütunluk sıfırlardan ve birlerden oluşan iki tane iki boyutlu array oluşturalım. Bu arrayleri satır ve sütun bazında birleştirelim."
   ]
  },
  {
   "cell_type": "code",
   "execution_count": 53,
   "id": "99a6ed29",
   "metadata": {},
   "outputs": [
    {
     "name": "stdout",
     "output_type": "stream",
     "text": [
      "Sifirlardan olusan array : \n",
      "[[0 0 0]\n",
      " [0 0 0]\n",
      " [0 0 0]\n",
      " [0 0 0]\n",
      " [0 0 0]]\n",
      "\n",
      "Birlerden olusan array : \n",
      "[[1 1 1]\n",
      " [1 1 1]\n",
      " [1 1 1]\n",
      " [1 1 1]\n",
      " [1 1 1]]\n"
     ]
    }
   ],
   "source": [
    "sifirlar = np.zeros((5,3),dtype=\"int\")\n",
    "birler = np.ones((5,3),dtype=\"int\")\n",
    "\n",
    "print(f\"Sifirlardan olusan array : \\n{sifirlar}\\n\\nBirlerden olusan array : \\n{birler}\")\n"
   ]
  },
  {
   "cell_type": "code",
   "execution_count": 54,
   "id": "8eb75e6f",
   "metadata": {},
   "outputs": [
    {
     "name": "stdout",
     "output_type": "stream",
     "text": [
      "Satirlarin birlestirildigi durum : \n",
      "[[0 0 0]\n",
      " [0 0 0]\n",
      " [0 0 0]\n",
      " [0 0 0]\n",
      " [0 0 0]\n",
      " [1 1 1]\n",
      " [1 1 1]\n",
      " [1 1 1]\n",
      " [1 1 1]\n",
      " [1 1 1]]\n",
      "\n",
      "Sutunlarin birlestirildigi durum : \n",
      "[[0 0 0 1 1 1]\n",
      " [0 0 0 1 1 1]\n",
      " [0 0 0 1 1 1]\n",
      " [0 0 0 1 1 1]\n",
      " [0 0 0 1 1 1]]\n",
      "\n"
     ]
    }
   ],
   "source": [
    "satir_birlestirmesi = np.concatenate([sifirlar,birler])\n",
    "print(f\"Satirlarin birlestirildigi durum : \\n{satir_birlestirmesi}\\n\")\n",
    "\n",
    "sutun_birlestirmesi = np.concatenate([sifirlar,birler],axis=1)\n",
    "print(f\"Sutunlarin birlestirildigi durum : \\n{sutun_birlestirmesi}\\n\")"
   ]
  }
 ],
 "metadata": {
  "kernelspec": {
   "display_name": "base",
   "language": "python",
   "name": "python3"
  },
  "language_info": {
   "codemirror_mode": {
    "name": "ipython",
    "version": 3
   },
   "file_extension": ".py",
   "mimetype": "text/x-python",
   "name": "python",
   "nbconvert_exporter": "python",
   "pygments_lexer": "ipython3",
   "version": "3.12.4"
  }
 },
 "nbformat": 4,
 "nbformat_minor": 5
}
